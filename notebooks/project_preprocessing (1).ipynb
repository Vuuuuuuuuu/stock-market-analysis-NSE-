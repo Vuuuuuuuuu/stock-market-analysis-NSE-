{
  "nbformat": 4,
  "nbformat_minor": 0,
  "metadata": {
    "colab": {
      "provenance": []
    },
    "kernelspec": {
      "name": "python3",
      "display_name": "Python 3"
    },
    "language_info": {
      "name": "python"
    }
  },
  "cells": [
    {
      "cell_type": "code",
      "execution_count": null,
      "metadata": {
        "id": "qPdnNYv_TG1E"
      },
      "outputs": [],
      "source": [
        "import pandas as pd\n",
        "import numpy as np"
      ]
    },
    {
      "cell_type": "code",
      "source": [
        "df = pd.read_csv(\"nse_2017_2020_filtered.csv\")"
      ],
      "metadata": {
        "colab": {
          "base_uri": "https://localhost:8080/"
        },
        "id": "75NBtzE3UaS4",
        "outputId": "67344771-6c54-42d8-d842-6f898dc46d03"
      },
      "execution_count": null,
      "outputs": [
        {
          "output_type": "stream",
          "name": "stderr",
          "text": [
            "/tmp/ipython-input-23-647098593.py:1: DtypeWarning: Columns (1,2) have mixed types. Specify dtype option on import or set low_memory=False.\n",
            "  df = pd.read_csv(\"nse_2017_2020_filtered.csv\")\n"
          ]
        }
      ]
    },
    {
      "cell_type": "code",
      "source": [
        "print(\"🧾 Columns:\", df.columns)\n",
        "df.shape\n",
        "print(\"📄 First 5 rows:\")\n",
        "print(df.head())\n",
        "\n",
        "# Check basic info\n",
        "print(\"\\n📊 Dataset Info:\")\n",
        "print(df.info())\n",
        "\n",
        "# Summary statistics\n",
        "print(\"\\n📈 Summary Statistics:\")\n",
        "print(df.describe())\n",
        "\n",
        "# Check column names\n",
        "print(\"\\n📌 Column Names:\")\n",
        "print(df.columns.tolist())\n",
        "\n",
        "# Check for missing values\n",
        "print(\"\\n❓ Missing Values:\")\n",
        "print(df.isnull().sum())\n"
      ],
      "metadata": {
        "colab": {
          "base_uri": "https://localhost:8080/"
        },
        "id": "YGPqWsIfUtT8",
        "outputId": "d1a74fcc-07d3-4f27-f825-56ea93f69bf8"
      },
      "execution_count": null,
      "outputs": [
        {
          "output_type": "stream",
          "name": "stdout",
          "text": [
            "🧾 Columns: Index(['Date', 'Symbol', 'Series', 'Prev Close', 'Open', 'High', 'Low', 'Last',\n",
            "       'Close', 'VWAP', 'Volume', 'Turnover', 'Trades', 'Deliverable Volume',\n",
            "       '%Deliverble'],\n",
            "      dtype='object')\n",
            "📄 First 5 rows:\n",
            "         Date    Symbol Series  Prev Close     Open     High      Low  \\\n",
            "0  2017-01-02  HDFCBANK     EQ      1206.2  1209.45  1210.10  1192.05   \n",
            "1  2017-01-03  HDFCBANK     EQ      1197.1  1200.80  1201.95  1185.75   \n",
            "2  2017-01-04  HDFCBANK     EQ      1189.9  1189.85  1192.00  1183.80   \n",
            "3  2017-01-05  HDFCBANK     EQ      1185.5  1189.00  1194.50  1183.10   \n",
            "4  2017-01-06  HDFCBANK     EQ      1186.2  1190.10  1198.40  1188.20   \n",
            "\n",
            "      Last    Close     VWAP     Volume      Turnover   Trades  \\\n",
            "0  1198.05  1197.10  1198.08   927164.0  1.110816e+14  36225.0   \n",
            "1  1190.00  1189.90  1192.50   961875.0  1.147035e+14  21734.0   \n",
            "2  1188.80  1185.50  1187.86  1741780.0  2.068990e+14  28925.0   \n",
            "3  1185.00  1186.20  1186.93  1694096.0  2.010774e+14  35946.0   \n",
            "4  1194.50  1193.65  1192.99  1381315.0  1.647897e+14  31658.0   \n",
            "\n",
            "   Deliverable Volume  %Deliverble  \n",
            "0            531525.0       0.5733  \n",
            "1            574034.0       0.5968  \n",
            "2           1227791.0       0.7049  \n",
            "3           1138929.0       0.6723  \n",
            "4            878454.0       0.6360  \n",
            "\n",
            "📊 Dataset Info:\n",
            "<class 'pandas.core.frame.DataFrame'>\n",
            "RangeIndex: 1403338 entries, 0 to 1403337\n",
            "Data columns (total 15 columns):\n",
            " #   Column              Non-Null Count    Dtype  \n",
            "---  ------              --------------    -----  \n",
            " 0   Date                1403338 non-null  object \n",
            " 1   Symbol              1352218 non-null  object \n",
            " 2   Series              1352218 non-null  object \n",
            " 3   Prev Close          1352218 non-null  float64\n",
            " 4   Open                1401747 non-null  float64\n",
            " 5   High                1401747 non-null  float64\n",
            " 6   Low                 1401747 non-null  float64\n",
            " 7   Last                1352218 non-null  float64\n",
            " 8   Close               1403338 non-null  float64\n",
            " 9   VWAP                1352218 non-null  float64\n",
            " 10  Volume              1387305 non-null  float64\n",
            " 11  Turnover            1387305 non-null  float64\n",
            " 12  Trades              1352218 non-null  float64\n",
            " 13  Deliverable Volume  1352203 non-null  float64\n",
            " 14  %Deliverble         1352203 non-null  float64\n",
            "dtypes: float64(12), object(3)\n",
            "memory usage: 160.6+ MB\n",
            "None\n",
            "\n",
            "📈 Summary Statistics:\n",
            "         Prev Close          Open          High           Low          Last  \\\n",
            "count  1.352218e+06  1.401747e+06  1.401747e+06  1.401747e+06  1.352218e+06   \n",
            "mean   5.574742e+02  7.985780e+02  8.091578e+02  7.870010e+02  5.575592e+02   \n",
            "std    2.391357e+03  2.965470e+03  2.995235e+03  2.931352e+03  2.391882e+03   \n",
            "min    5.000000e-02  5.000000e-02  1.000000e-01  5.000000e-02  5.000000e-02   \n",
            "25%    4.120000e+01  4.340000e+01  4.455000e+01  4.210000e+01  4.120000e+01   \n",
            "50%    1.429000e+02  1.550000e+02  1.587500e+02  1.514000e+02  1.429500e+02   \n",
            "75%    4.311500e+02  4.893000e+02  4.988000e+02  4.799500e+02  4.310000e+02   \n",
            "max    8.086045e+04  8.116000e+04  8.142595e+04  7.972000e+04  8.059900e+04   \n",
            "\n",
            "              Close          VWAP        Volume      Turnover        Trades  \\\n",
            "count  1.403338e+06  1.352218e+06  1.387305e+06  1.387305e+06  1.352218e+06   \n",
            "mean   8.072817e+02  5.583641e+02  8.326361e+06  2.557536e+13  8.848279e+03   \n",
            "std    2.976600e+03  2.393958e+03  7.754026e+07  1.335219e+14  2.915041e+04   \n",
            "min    5.000000e-02  5.000000e-02  1.000000e+00  4.000000e+04  1.000000e+00   \n",
            "25%    4.325000e+01  4.134000e+01  1.217300e+04  1.021148e+11  2.350000e+02   \n",
            "50%    1.549500e+02  1.432600e+02  6.489000e+04  7.746867e+11  1.044000e+03   \n",
            "75%    4.900500e+02  4.322000e+02  4.442760e+05  5.854284e+12  5.049000e+03   \n",
            "max    8.086045e+04  8.042680e+04  5.404237e+09  3.564334e+16  1.788274e+06   \n",
            "\n",
            "       Deliverable Volume   %Deliverble  \n",
            "count        1.352203e+06  1.352203e+06  \n",
            "mean         4.192549e+05  5.798814e-01  \n",
            "std          3.130169e+06  2.117478e-01  \n",
            "min          0.000000e+00  0.000000e+00  \n",
            "25%          7.297000e+03  4.364000e-01  \n",
            "50%          3.348600e+04  5.883000e-01  \n",
            "75%          1.711920e+05  7.278000e-01  \n",
            "max          7.870864e+08  1.000000e+00  \n",
            "\n",
            "📌 Column Names:\n",
            "['Date', 'Symbol', 'Series', 'Prev Close', 'Open', 'High', 'Low', 'Last', 'Close', 'VWAP', 'Volume', 'Turnover', 'Trades', 'Deliverable Volume', '%Deliverble']\n",
            "\n",
            "❓ Missing Values:\n",
            "Date                      0\n",
            "Symbol                51120\n",
            "Series                51120\n",
            "Prev Close            51120\n",
            "Open                   1591\n",
            "High                   1591\n",
            "Low                    1591\n",
            "Last                  51120\n",
            "Close                     0\n",
            "VWAP                  51120\n",
            "Volume                16033\n",
            "Turnover              16033\n",
            "Trades                51120\n",
            "Deliverable Volume    51135\n",
            "%Deliverble           51135\n",
            "dtype: int64\n"
          ]
        }
      ]
    },
    {
      "cell_type": "code",
      "source": [
        "df = df.dropna(subset=['Symbol', 'Date'])\n"
      ],
      "metadata": {
        "id": "rf96f9jHUxyn"
      },
      "execution_count": null,
      "outputs": []
    },
    {
      "cell_type": "code",
      "source": [
        "df.columns = df.columns.str.strip().str.lower().str.replace(' ', '_')"
      ],
      "metadata": {
        "id": "GGPdRYUVU1Xh"
      },
      "execution_count": null,
      "outputs": []
    },
    {
      "cell_type": "code",
      "source": [
        "df['date'] = pd.to_datetime(df['date'], errors='coerce')\n",
        "df = df.dropna(subset=['date'])\n"
      ],
      "metadata": {
        "id": "_-ODi_f1U7Bu"
      },
      "execution_count": null,
      "outputs": []
    },
    {
      "cell_type": "code",
      "source": [
        "df = df.sort_values('date')"
      ],
      "metadata": {
        "id": "LR4tDMrkVGUg"
      },
      "execution_count": null,
      "outputs": []
    },
    {
      "cell_type": "code",
      "source": [
        "df = df.drop_duplicates()"
      ],
      "metadata": {
        "id": "bcz-iXjQVPJJ"
      },
      "execution_count": null,
      "outputs": []
    },
    {
      "cell_type": "code",
      "source": [
        "numeric_cols = ['open', 'high', 'low', 'close', 'volume', 'deliverable_volume']\n",
        "for col in numeric_cols:\n",
        "    if col in df.columns:\n",
        "        df[col] = pd.to_numeric(df[col], errors='coerce')\n",
        "        df[col] = df[col].fillna(method='ffill')\n",
        "        df[col] = df[col].fillna(method='bfill')"
      ],
      "metadata": {
        "colab": {
          "base_uri": "https://localhost:8080/"
        },
        "id": "-SsGAWIVVSYO",
        "outputId": "b681cd96-be79-4f58-99f1-f1a34e49d93a"
      },
      "execution_count": null,
      "outputs": [
        {
          "output_type": "stream",
          "name": "stderr",
          "text": [
            "/tmp/ipython-input-13-508186644.py:5: FutureWarning: Series.fillna with 'method' is deprecated and will raise in a future version. Use obj.ffill() or obj.bfill() instead.\n",
            "  df[col] = df[col].fillna(method='ffill')\n",
            "/tmp/ipython-input-13-508186644.py:6: FutureWarning: Series.fillna with 'method' is deprecated and will raise in a future version. Use obj.ffill() or obj.bfill() instead.\n",
            "  df[col] = df[col].fillna(method='bfill')\n"
          ]
        }
      ]
    },
    {
      "cell_type": "code",
      "source": [
        "if 'close' in df.columns and 'open' in df.columns:\n",
        "    df['daily_return'] = (df['close'] - df['open']) / df['open']"
      ],
      "metadata": {
        "id": "HNfcG1XkVd7v"
      },
      "execution_count": null,
      "outputs": []
    },
    {
      "cell_type": "code",
      "source": [
        "df.to_csv(\"nse_2017_2020_preprocessed.csv\", index=False)\n",
        "print(\"✅ Preprocessing complete. Saved as: nse_2017_2020_preprocessed.csv\")\n",
        "\n",
        "print(df.head())"
      ],
      "metadata": {
        "colab": {
          "base_uri": "https://localhost:8080/"
        },
        "id": "8wvvPng6Vg4M",
        "outputId": "6903d7ac-282f-47cb-e330-eedefd43f5bc"
      },
      "execution_count": null,
      "outputs": [
        {
          "output_type": "stream",
          "name": "stdout",
          "text": [
            "✅ Preprocessing complete. Saved as: nse_2017_2020_preprocessed.csv\n",
            "            date      symbol series  prev_close     open     high      low  \\\n",
            "0     2017-01-02    HDFCBANK     EQ     1206.20  1209.45  1210.10  1192.05   \n",
            "36529 2017-01-02   CMICABLES     EQ      135.90   134.00   147.00   132.10   \n",
            "1822  2017-01-02      ARVIND     EQ      352.95   356.80   357.95   350.45   \n",
            "37936 2017-01-02  JINDALSTEL     EQ       69.20    69.80    70.80    68.85   \n",
            "38927 2017-01-02    ALPHAGEO     EQ      900.60   920.00   925.00   905.05   \n",
            "\n",
            "          last    close     vwap     volume      turnover   trades  \\\n",
            "0      1198.05  1197.10  1198.08   927164.0  1.110816e+14  36225.0   \n",
            "36529   145.50   144.20   139.48    95511.0  1.332213e+12   1492.0   \n",
            "1822    352.15   352.15   353.21  1735144.0  6.128756e+13  26998.0   \n",
            "37936    70.25    70.35    69.96  4895204.0  3.424881e+13  14115.0   \n",
            "38927   921.00   921.40   918.70    12230.0  1.123569e+12    799.0   \n",
            "\n",
            "       deliverable_volume  %deliverble  daily_return  \n",
            "0                531525.0       0.5733     -0.010211  \n",
            "36529             14557.0       0.1524      0.076119  \n",
            "1822             391231.0       0.2255     -0.013033  \n",
            "37936           1134811.0       0.2318      0.007880  \n",
            "38927              6757.0       0.5525      0.001522  \n"
          ]
        }
      ]
    },
    {
      "cell_type": "code",
      "source": [
        "df= pd.read_csv(\"nse_2017_2020_preprocessed.csv\")"
      ],
      "metadata": {
        "id": "yLSYkeNzYm0q"
      },
      "execution_count": null,
      "outputs": []
    },
    {
      "cell_type": "code",
      "source": [
        "\n",
        "print(\"📄 First 5 rows:\")\n",
        "print(df.head())\n",
        "\n",
        "# Check basic info\n",
        "print(\"\\n📊 Dataset Info:\")\n",
        "print(df.info())\n",
        "\n",
        "# Summary statistics\n",
        "print(\"\\n📈 Summary Statistics:\")\n",
        "print(df.describe())\n",
        "\n",
        "# Check column names\n",
        "print(\"\\n📌 Column Names:\")\n",
        "print(df.columns.tolist())\n",
        "\n",
        "# Check for missing values\n",
        "print(\"\\n❓ Missing Values:\")\n",
        "print(df.isnull().sum())\n"
      ],
      "metadata": {
        "colab": {
          "base_uri": "https://localhost:8080/"
        },
        "id": "ShkRJVfUY6k-",
        "outputId": "2206700c-a420-48c7-bf26-ed41b7dd4de4"
      },
      "execution_count": null,
      "outputs": [
        {
          "output_type": "stream",
          "name": "stdout",
          "text": [
            "📄 First 5 rows:\n",
            "         date      symbol series  prev_close     open     high      low  \\\n",
            "0  2017-01-02    HDFCBANK     EQ     1206.20  1209.45  1210.10  1192.05   \n",
            "1  2017-01-02   CMICABLES     EQ      135.90   134.00   147.00   132.10   \n",
            "2  2017-01-02      ARVIND     EQ      352.95   356.80   357.95   350.45   \n",
            "3  2017-01-02  JINDALSTEL     EQ       69.20    69.80    70.80    68.85   \n",
            "4  2017-01-02    ALPHAGEO     EQ      900.60   920.00   925.00   905.05   \n",
            "\n",
            "      last    close     vwap     volume      turnover   trades  \\\n",
            "0  1198.05  1197.10  1198.08   927164.0  1.110816e+14  36225.0   \n",
            "1   145.50   144.20   139.48    95511.0  1.332213e+12   1492.0   \n",
            "2   352.15   352.15   353.21  1735144.0  6.128756e+13  26998.0   \n",
            "3    70.25    70.35    69.96  4895204.0  3.424881e+13  14115.0   \n",
            "4   921.00   921.40   918.70    12230.0  1.123569e+12    799.0   \n",
            "\n",
            "   deliverable_volume  %deliverble  daily_return  \n",
            "0            531525.0       0.5733     -0.010211  \n",
            "1             14557.0       0.1524      0.076119  \n",
            "2            391231.0       0.2255     -0.013033  \n",
            "3           1134811.0       0.2318      0.007880  \n",
            "4              6757.0       0.5525      0.001522  \n",
            "\n",
            "📊 Dataset Info:\n",
            "<class 'pandas.core.frame.DataFrame'>\n",
            "RangeIndex: 64770 entries, 0 to 64769\n",
            "Data columns (total 16 columns):\n",
            " #   Column              Non-Null Count  Dtype  \n",
            "---  ------              --------------  -----  \n",
            " 0   date                64770 non-null  object \n",
            " 1   symbol              64770 non-null  object \n",
            " 2   series              64770 non-null  object \n",
            " 3   prev_close          64770 non-null  float64\n",
            " 4   open                64770 non-null  float64\n",
            " 5   high                64770 non-null  float64\n",
            " 6   low                 64770 non-null  float64\n",
            " 7   last                64770 non-null  float64\n",
            " 8   close               64770 non-null  float64\n",
            " 9   vwap                64769 non-null  float64\n",
            " 10  volume              64770 non-null  float64\n",
            " 11  turnover            64769 non-null  float64\n",
            " 12  trades              64769 non-null  float64\n",
            " 13  deliverable_volume  64770 non-null  float64\n",
            " 14  %deliverble         64769 non-null  float64\n",
            " 15  daily_return        64770 non-null  float64\n",
            "dtypes: float64(13), object(3)\n",
            "memory usage: 7.9+ MB\n",
            "None\n",
            "\n",
            "📈 Summary Statistics:\n",
            "         prev_close          open          high           low          last  \\\n",
            "count  64770.000000  64770.000000  64770.000000  64770.000000  64770.000000   \n",
            "mean     409.198778    410.097861    417.670960    402.447872    409.341602   \n",
            "std      820.081412    822.683623    837.743617    807.982217    822.081021   \n",
            "min        0.350000      0.350000      0.400000      0.350000      0.400000   \n",
            "25%       58.950000     59.100000     60.850000     57.550000     58.962500   \n",
            "50%      126.275000    126.700000    129.750000    123.675000    126.175000   \n",
            "75%      317.437500    318.187500    324.950000    312.100000    317.487500   \n",
            "max    13716.350000  13845.000000  13909.850000  13407.000000  13760.000000   \n",
            "\n",
            "              close          vwap        volume      turnover         trades  \\\n",
            "count  64770.000000  64769.000000  6.477000e+04  6.476900e+04   64769.000000   \n",
            "mean     409.501478    410.144628  1.422937e+06  2.920055e+13    9365.303525   \n",
            "std      822.169801    823.015485  6.502053e+06  1.491071e+14   27032.596167   \n",
            "min        0.350000      0.380000  1.000000e+00  1.300000e+05       1.000000   \n",
            "25%       58.900000     59.130000  1.496525e+04  2.076579e+11     355.000000   \n",
            "50%      126.300000    126.770000  1.083330e+05  1.316669e+12    1533.000000   \n",
            "75%      317.350000    318.500000  6.828610e+05  9.217233e+12    7136.000000   \n",
            "max    13716.350000  13642.970000  2.837703e+08  1.426400e+16  790631.000000   \n",
            "\n",
            "       deliverable_volume   %deliverble  daily_return  \n",
            "count        6.477000e+04  64769.000000  64770.000000  \n",
            "mean         4.766799e+05      0.556519     -0.001931  \n",
            "std          2.123799e+06      0.219028      0.193543  \n",
            "min          0.000000e+00      0.000000     -0.310621  \n",
            "25%          9.498250e+03      0.404000     -0.018462  \n",
            "50%          5.578900e+04      0.562300     -0.003215  \n",
            "75%          2.804345e+05      0.705700      0.010393  \n",
            "max          9.441668e+07      1.000000     48.577601  \n",
            "\n",
            "📌 Column Names:\n",
            "['date', 'symbol', 'series', 'prev_close', 'open', 'high', 'low', 'last', 'close', 'vwap', 'volume', 'turnover', 'trades', 'deliverable_volume', '%deliverble', 'daily_return']\n",
            "\n",
            "❓ Missing Values:\n",
            "date                  0\n",
            "symbol                0\n",
            "series                0\n",
            "prev_close            0\n",
            "open                  0\n",
            "high                  0\n",
            "low                   0\n",
            "last                  0\n",
            "close                 0\n",
            "vwap                  1\n",
            "volume                0\n",
            "turnover              1\n",
            "trades                1\n",
            "deliverable_volume    0\n",
            "%deliverble           1\n",
            "daily_return          0\n",
            "dtype: int64\n"
          ]
        }
      ]
    },
    {
      "cell_type": "code",
      "source": [
        "df.shape\n"
      ],
      "metadata": {
        "id": "nPCHYRg-iL_g",
        "outputId": "eca5e415-2341-4793-99c6-e9ba67311cc8",
        "colab": {
          "base_uri": "https://localhost:8080/"
        }
      },
      "execution_count": null,
      "outputs": [
        {
          "output_type": "execute_result",
          "data": {
            "text/plain": [
              "(1403338, 15)"
            ]
          },
          "metadata": {},
          "execution_count": 25
        }
      ]
    },
    {
      "cell_type": "code",
      "source": [
        "# Load your dataset\n",
        "df = pd.read_csv(\"nse_2017_2020_preprocessed.csv\")\n",
        "\n",
        "# Drop rows with any missing values\n",
        "df_cleaned = df.dropna()\n",
        "\n",
        "# Confirm how many rows were removed\n",
        "rows_removed = len(df) - len(df_cleaned)\n",
        "print(f\"Rows removed due to missing values: {rows_removed}\")\n",
        "\n",
        "# Optional: Save the cleaned dataset\n",
        "df_cleaned.to_csv(\"nse_cleaned.csv\", index=False)\n"
      ],
      "metadata": {
        "id": "918cXPihKKOY"
      },
      "execution_count": null,
      "outputs": []
    }
  ]
}